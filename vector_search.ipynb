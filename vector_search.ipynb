{
  "cells": [
    {
      "cell_type": "markdown",
      "metadata": {
        "colab_type": "text",
        "id": "view-in-github"
      },
      "source": [
        "<a href=\"https://colab.research.google.com/github/liliiakryvelova/build_book_recommender/blob/main/vector_search.ipynb\" target=\"_parent\"><img src=\"https://colab.research.google.com/assets/colab-badge.svg\" alt=\"Open In Colab\"/></a>"
      ]
    },
    {
      "cell_type": "code",
      "execution_count": 8,
      "metadata": {
        "id": "cqvPIwcU3zTA"
      },
      "outputs": [
        {
          "ename": "ModuleNotFoundError",
          "evalue": "No module named 'langchain_community'",
          "output_type": "error",
          "traceback": [
            "\u001b[31m---------------------------------------------------------------------------\u001b[39m",
            "\u001b[31mModuleNotFoundError\u001b[39m                       Traceback (most recent call last)",
            "\u001b[36mCell\u001b[39m\u001b[36m \u001b[39m\u001b[32mIn[8]\u001b[39m\u001b[32m, line 1\u001b[39m\n\u001b[32m----> \u001b[39m\u001b[32m1\u001b[39m \u001b[38;5;28;01mfrom\u001b[39;00m\u001b[38;5;250m \u001b[39m\u001b[34;01mlangchain_community\u001b[39;00m\u001b[34;01m.\u001b[39;00m\u001b[34;01mdocument_loaders\u001b[39;00m\u001b[38;5;250m \u001b[39m\u001b[38;5;28;01mimport\u001b[39;00m TextLoader\n\u001b[32m      2\u001b[39m \u001b[38;5;28;01mfrom\u001b[39;00m\u001b[38;5;250m \u001b[39m\u001b[34;01mlangchain_text_splitters\u001b[39;00m\u001b[38;5;250m \u001b[39m\u001b[38;5;28;01mimport\u001b[39;00m CharacterTextSplitter\n\u001b[32m      3\u001b[39m \u001b[38;5;28;01mfrom\u001b[39;00m\u001b[38;5;250m \u001b[39m\u001b[34;01mlangchain_openai\u001b[39;00m\u001b[38;5;250m \u001b[39m\u001b[38;5;28;01mimport\u001b[39;00m OpenAIEmbeddings\n",
            "\u001b[31mModuleNotFoundError\u001b[39m: No module named 'langchain_community'"
          ]
        }
      ],
      "source": [
        "from langchain_community.document_loaders import TextLoader\n",
        "from langchain_text_splitters import CharacterTextSplitter\n",
        "from langchain_openai import OpenAIEmbeddings\n",
        "from langchain_chroma import Chroma"
      ]
    },
    {
      "cell_type": "code",
      "execution_count": null,
      "metadata": {},
      "outputs": [
        {
          "name": "stdout",
          "output_type": "stream",
          "text": [
            "Collecting python-dotenv\n",
            "  Downloading python_dotenv-1.1.1-py3-none-any.whl.metadata (24 kB)\n",
            "Downloading python_dotenv-1.1.1-py3-none-any.whl (20 kB)\n",
            "Installing collected packages: python-dotenv\n",
            "Successfully installed python-dotenv-1.1.1\n",
            "Note: you may need to restart the kernel to use updated packages.\n"
          ]
        }
      ],
      "source": [
        "%pip install python-dotenv"
      ]
    },
    {
      "cell_type": "code",
      "execution_count": null,
      "metadata": {
        "id": "OXhpCnXV45l1"
      },
      "outputs": [
        {
          "data": {
            "text/plain": [
              "True"
            ]
          },
          "execution_count": 1,
          "metadata": {},
          "output_type": "execute_result"
        }
      ],
      "source": [
        "from dotenv import load_dotenv\n",
        "\n",
        "load_dotenv()\n"
      ]
    },
    {
      "cell_type": "code",
      "execution_count": null,
      "metadata": {},
      "outputs": [],
      "source": [
        "import pandas as pd\n",
        "books = pd.read_csv(\"books_cleaned.csv\")\n"
      ]
    },
    {
      "cell_type": "code",
      "execution_count": 5,
      "metadata": {},
      "outputs": [
        {
          "name": "stdout",
          "output_type": "stream",
          "text": [
            "Dataset shape: (6507, 12)\n",
            "\n",
            "Columns: ['isbn13', 'isbn10', 'title', 'authors', 'categories', 'thumbnail', 'published_year', 'average_rating', 'num_pages', 'ratings_count', 'title_and_subtitle', 'tagged_description']\n",
            "\n",
            "First few rows:\n"
          ]
        },
        {
          "data": {
            "text/html": [
              "<div>\n",
              "<style scoped>\n",
              "    .dataframe tbody tr th:only-of-type {\n",
              "        vertical-align: middle;\n",
              "    }\n",
              "\n",
              "    .dataframe tbody tr th {\n",
              "        vertical-align: top;\n",
              "    }\n",
              "\n",
              "    .dataframe thead th {\n",
              "        text-align: right;\n",
              "    }\n",
              "</style>\n",
              "<table border=\"1\" class=\"dataframe\">\n",
              "  <thead>\n",
              "    <tr style=\"text-align: right;\">\n",
              "      <th></th>\n",
              "      <th>isbn13</th>\n",
              "      <th>isbn10</th>\n",
              "      <th>title</th>\n",
              "      <th>authors</th>\n",
              "      <th>categories</th>\n",
              "      <th>thumbnail</th>\n",
              "      <th>published_year</th>\n",
              "      <th>average_rating</th>\n",
              "      <th>num_pages</th>\n",
              "      <th>ratings_count</th>\n",
              "      <th>title_and_subtitle</th>\n",
              "      <th>tagged_description</th>\n",
              "    </tr>\n",
              "  </thead>\n",
              "  <tbody>\n",
              "    <tr>\n",
              "      <th>0</th>\n",
              "      <td>9780002005883</td>\n",
              "      <td>0002005883</td>\n",
              "      <td>Gilead</td>\n",
              "      <td>Marilynne Robinson</td>\n",
              "      <td>Fiction</td>\n",
              "      <td>http://books.google.com/books/content?id=KQZCP...</td>\n",
              "      <td>2004.0</td>\n",
              "      <td>3.85</td>\n",
              "      <td>247.0</td>\n",
              "      <td>361.0</td>\n",
              "      <td>Gilead</td>\n",
              "      <td>9780002005883A NOVEL THAT READERS and critics ...</td>\n",
              "    </tr>\n",
              "    <tr>\n",
              "      <th>1</th>\n",
              "      <td>9780002261982</td>\n",
              "      <td>0002261987</td>\n",
              "      <td>Spider's Web</td>\n",
              "      <td>Charles Osborne;Agatha Christie</td>\n",
              "      <td>Detective and mystery stories</td>\n",
              "      <td>http://books.google.com/books/content?id=gA5GP...</td>\n",
              "      <td>2000.0</td>\n",
              "      <td>3.83</td>\n",
              "      <td>241.0</td>\n",
              "      <td>5164.0</td>\n",
              "      <td>Spider's Web: A Novel</td>\n",
              "      <td>9780002261982A new 'Christie for Christmas' --...</td>\n",
              "    </tr>\n",
              "    <tr>\n",
              "      <th>2</th>\n",
              "      <td>9780006163831</td>\n",
              "      <td>0006163831</td>\n",
              "      <td>The One Tree</td>\n",
              "      <td>Stephen R. Donaldson</td>\n",
              "      <td>American fiction</td>\n",
              "      <td>http://books.google.com/books/content?id=OmQaw...</td>\n",
              "      <td>1982.0</td>\n",
              "      <td>3.97</td>\n",
              "      <td>479.0</td>\n",
              "      <td>172.0</td>\n",
              "      <td>The One Tree</td>\n",
              "      <td>9780006163831Volume Two of Stephen Donaldson's...</td>\n",
              "    </tr>\n",
              "    <tr>\n",
              "      <th>3</th>\n",
              "      <td>9780006178736</td>\n",
              "      <td>0006178731</td>\n",
              "      <td>Rage of angels</td>\n",
              "      <td>Sidney Sheldon</td>\n",
              "      <td>Fiction</td>\n",
              "      <td>http://books.google.com/books/content?id=FKo2T...</td>\n",
              "      <td>1993.0</td>\n",
              "      <td>3.93</td>\n",
              "      <td>512.0</td>\n",
              "      <td>29532.0</td>\n",
              "      <td>Rage of angels</td>\n",
              "      <td>9780006178736A memorable, mesmerizing heroine ...</td>\n",
              "    </tr>\n",
              "    <tr>\n",
              "      <th>4</th>\n",
              "      <td>9780006280897</td>\n",
              "      <td>0006280897</td>\n",
              "      <td>The Four Loves</td>\n",
              "      <td>Clive Staples Lewis</td>\n",
              "      <td>Christian life</td>\n",
              "      <td>http://books.google.com/books/content?id=XhQ5X...</td>\n",
              "      <td>2002.0</td>\n",
              "      <td>4.15</td>\n",
              "      <td>170.0</td>\n",
              "      <td>33684.0</td>\n",
              "      <td>The Four Loves</td>\n",
              "      <td>9780006280897Lewis' work on the nature of love...</td>\n",
              "    </tr>\n",
              "  </tbody>\n",
              "</table>\n",
              "</div>"
            ],
            "text/plain": [
              "          isbn13      isbn10           title                          authors  \\\n",
              "0  9780002005883  0002005883          Gilead               Marilynne Robinson   \n",
              "1  9780002261982  0002261987    Spider's Web  Charles Osborne;Agatha Christie   \n",
              "2  9780006163831  0006163831    The One Tree             Stephen R. Donaldson   \n",
              "3  9780006178736  0006178731  Rage of angels                   Sidney Sheldon   \n",
              "4  9780006280897  0006280897  The Four Loves              Clive Staples Lewis   \n",
              "\n",
              "                      categories  \\\n",
              "0                        Fiction   \n",
              "1  Detective and mystery stories   \n",
              "2               American fiction   \n",
              "3                        Fiction   \n",
              "4                 Christian life   \n",
              "\n",
              "                                           thumbnail  published_year  \\\n",
              "0  http://books.google.com/books/content?id=KQZCP...          2004.0   \n",
              "1  http://books.google.com/books/content?id=gA5GP...          2000.0   \n",
              "2  http://books.google.com/books/content?id=OmQaw...          1982.0   \n",
              "3  http://books.google.com/books/content?id=FKo2T...          1993.0   \n",
              "4  http://books.google.com/books/content?id=XhQ5X...          2002.0   \n",
              "\n",
              "   average_rating  num_pages  ratings_count     title_and_subtitle  \\\n",
              "0            3.85      247.0          361.0                 Gilead   \n",
              "1            3.83      241.0         5164.0  Spider's Web: A Novel   \n",
              "2            3.97      479.0          172.0           The One Tree   \n",
              "3            3.93      512.0        29532.0         Rage of angels   \n",
              "4            4.15      170.0        33684.0         The Four Loves   \n",
              "\n",
              "                                  tagged_description  \n",
              "0  9780002005883A NOVEL THAT READERS and critics ...  \n",
              "1  9780002261982A new 'Christie for Christmas' --...  \n",
              "2  9780006163831Volume Two of Stephen Donaldson's...  \n",
              "3  9780006178736A memorable, mesmerizing heroine ...  \n",
              "4  9780006280897Lewis' work on the nature of love...  "
            ]
          },
          "execution_count": 5,
          "metadata": {},
          "output_type": "execute_result"
        }
      ],
      "source": [
        "# Explore the books dataset\n",
        "print(f\"Dataset shape: {books.shape}\")\n",
        "print(f\"\\nColumns: {list(books.columns)}\")\n",
        "print(f\"\\nFirst few rows:\")\n",
        "books.head()"
      ]
    },
    {
      "cell_type": "code",
      "execution_count": 6,
      "metadata": {},
      "outputs": [
        {
          "name": "stdout",
          "output_type": "stream",
          "text": [
            "Books with combined text: 6507\n",
            "Sample combined text:\n",
            "Gilead Marilynne Robinson Fiction 9780002005883A NOVEL THAT READERS and critics have been eagerly anticipating for over a decade, Gilead is an astonishingly imagined story of remarkable lives. John Am...\n"
          ]
        }
      ],
      "source": [
        "# Prepare text data for vector search\n",
        "# Combine relevant text fields for each book\n",
        "books['combined_text'] = (\n",
        "    books['title'].fillna('') + ' ' + \n",
        "    books['authors'].fillna('') + ' ' + \n",
        "    books['categories'].fillna('') + ' ' + \n",
        "    books['tagged_description'].fillna('')\n",
        ")\n",
        "\n",
        "# Check for any missing data\n",
        "print(f\"Books with combined text: {len(books[books['combined_text'].str.strip() != ''])}\")\n",
        "print(f\"Sample combined text:\")\n",
        "print(books['combined_text'].iloc[0][:200] + \"...\")"
      ]
    },
    {
      "cell_type": "code",
      "execution_count": 7,
      "metadata": {},
      "outputs": [
        {
          "ename": "NameError",
          "evalue": "name 'OpenAIEmbeddings' is not defined",
          "output_type": "error",
          "traceback": [
            "\u001b[31m---------------------------------------------------------------------------\u001b[39m",
            "\u001b[31mNameError\u001b[39m                                 Traceback (most recent call last)",
            "\u001b[36mCell\u001b[39m\u001b[36m \u001b[39m\u001b[32mIn[7]\u001b[39m\u001b[32m, line 5\u001b[39m\n\u001b[32m      2\u001b[39m \u001b[38;5;28;01mimport\u001b[39;00m\u001b[38;5;250m \u001b[39m\u001b[34;01mos\u001b[39;00m\n\u001b[32m      4\u001b[39m \u001b[38;5;66;03m# Initialize OpenAI embeddings (make sure you have OPENAI_API_KEY in your .env file)\u001b[39;00m\n\u001b[32m----> \u001b[39m\u001b[32m5\u001b[39m embeddings = \u001b[43mOpenAIEmbeddings\u001b[49m()\n\u001b[32m      7\u001b[39m \u001b[38;5;66;03m# Convert books data to documents for vector search\u001b[39;00m\n\u001b[32m      8\u001b[39m documents = []\n",
            "\u001b[31mNameError\u001b[39m: name 'OpenAIEmbeddings' is not defined"
          ]
        }
      ],
      "source": [
        "# Set up vector store and embeddings\n",
        "import os\n",
        "\n",
        "# Initialize OpenAI embeddings (make sure you have OPENAI_API_KEY in your .env file)\n",
        "embeddings = OpenAIEmbeddings()\n",
        "\n",
        "# Convert books data to documents for vector search\n",
        "documents = []\n",
        "for idx, row in books.iterrows():\n",
        "    # Create a document with the combined text and metadata\n",
        "    doc_text = row['combined_text']\n",
        "    metadata = {\n",
        "        'title': row['title'],\n",
        "        'authors': row['authors'],\n",
        "        'categories': row['categories'],\n",
        "        'average_rating': row['average_rating'],\n",
        "        'isbn13': row['isbn13']\n",
        "    }\n",
        "    documents.append({'text': doc_text, 'metadata': metadata})\n",
        "\n",
        "print(f\"Created {len(documents)} documents for vector search\")\n",
        "print(f\"Sample document metadata: {documents[0]['metadata']}\")"
      ]
    }
  ],
  "metadata": {
    "colab": {
      "authorship_tag": "ABX9TyO/3eFDWe6RdsEKmLC2JXop",
      "include_colab_link": true,
      "provenance": []
    },
    "kernelspec": {
      "display_name": ".venv",
      "language": "python",
      "name": "python3"
    },
    "language_info": {
      "codemirror_mode": {
        "name": "ipython",
        "version": 3
      },
      "file_extension": ".py",
      "mimetype": "text/x-python",
      "name": "python",
      "nbconvert_exporter": "python",
      "pygments_lexer": "ipython3",
      "version": "3.13.2"
    }
  },
  "nbformat": 4,
  "nbformat_minor": 0
}
